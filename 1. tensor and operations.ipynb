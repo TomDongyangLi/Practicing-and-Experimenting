{
  "nbformat": 4,
  "nbformat_minor": 0,
  "metadata": {
    "colab": {
      "provenance": []
    },
    "kernelspec": {
      "name": "python3",
      "display_name": "Python 3"
    },
    "language_info": {
      "name": "python"
    }
  },
  "cells": [
    {
      "cell_type": "code",
      "execution_count": null,
      "metadata": {
        "id": "38figRPpJsQu"
      },
      "outputs": [],
      "source": [
        "import torch\n",
        "import numpy as np"
      ]
    },
    {
      "cell_type": "code",
      "source": [
        "print(torch.__version__)"
      ],
      "metadata": {
        "colab": {
          "base_uri": "https://localhost:8080/"
        },
        "id": "GBuVZ7OfM19D",
        "outputId": "9adf28f3-c909-4d78-8d6e-5a5c218fe806"
      },
      "execution_count": null,
      "outputs": [
        {
          "output_type": "stream",
          "name": "stdout",
          "text": [
            "2.1.0+cu121\n"
          ]
        }
      ]
    },
    {
      "cell_type": "code",
      "source": [
        "torch.backends.mps.is_available()"
      ],
      "metadata": {
        "colab": {
          "base_uri": "https://localhost:8080/"
        },
        "id": "FH7MWCe4M47f",
        "outputId": "dc4acc0e-6bed-4003-c702-5f3b833170fe"
      },
      "execution_count": null,
      "outputs": [
        {
          "output_type": "execute_result",
          "data": {
            "text/plain": [
              "False"
            ]
          },
          "metadata": {},
          "execution_count": 7
        }
      ]
    },
    {
      "cell_type": "code",
      "source": [
        "torch.cuda.is_available()"
      ],
      "metadata": {
        "colab": {
          "base_uri": "https://localhost:8080/"
        },
        "id": "IhruoB9jNAJI",
        "outputId": "9eb71ac1-9e0b-4989-e80e-838cdf7fe457"
      },
      "execution_count": null,
      "outputs": [
        {
          "output_type": "execute_result",
          "data": {
            "text/plain": [
              "False"
            ]
          },
          "metadata": {},
          "execution_count": 8
        }
      ]
    },
    {
      "cell_type": "code",
      "source": [],
      "metadata": {
        "id": "qMwqzTi7VIUO"
      },
      "execution_count": null,
      "outputs": []
    },
    {
      "cell_type": "markdown",
      "source": [
        "# Tensor\n",
        "\n"
      ],
      "metadata": {
        "id": "fg1RiypMUOF2"
      }
    },
    {
      "cell_type": "code",
      "source": [
        "dd = np.array([[1,2,3],\n",
        "      [4,5,6],\n",
        "      [7,8,9]])\n",
        "\n",
        "print(dd[0][2])\n",
        "print(dd[0,2])"
      ],
      "metadata": {
        "colab": {
          "base_uri": "https://localhost:8080/"
        },
        "id": "taJsTmOBUPCp",
        "outputId": "cf455ea6-0032-4b62-dcb6-5c28721e0e4b"
      },
      "execution_count": null,
      "outputs": [
        {
          "output_type": "stream",
          "name": "stdout",
          "text": [
            "3\n",
            "3\n"
          ]
        }
      ]
    },
    {
      "cell_type": "markdown",
      "source": [
        "## rank, axis, shape\n",
        "\n",
        "**rank n** tenser: a tensor require n indices to access element, or how many axies a tensor have (not the rank in math)\n",
        "\n",
        "an **axis** of tensor is a specific dimension of tensor\n",
        "\n",
        "length of each axis tells us how much indices are available along each axis\n",
        "\n",
        "The **shape/size** of tensor is determined by length of each axis\n",
        "\n",
        "The rank of a variable is the same as the length of shape\n",
        "\n"
      ],
      "metadata": {
        "id": "CsZQLNImVmcj"
      }
    },
    {
      "cell_type": "code",
      "source": [],
      "metadata": {
        "id": "koH2J6VkUyqL"
      },
      "execution_count": null,
      "outputs": []
    },
    {
      "cell_type": "markdown",
      "source": [
        "## Reshaping tensor"
      ],
      "metadata": {
        "id": "2FlUggSRYJYy"
      }
    },
    {
      "cell_type": "code",
      "source": [
        "t = torch.tensor(dd)\n",
        "t.shape"
      ],
      "metadata": {
        "colab": {
          "base_uri": "https://localhost:8080/"
        },
        "id": "7Jc2Zd6OY3Zp",
        "outputId": "55cab81b-fea8-48e4-eb39-5d30ee6343d1"
      },
      "execution_count": null,
      "outputs": [
        {
          "output_type": "execute_result",
          "data": {
            "text/plain": [
              "torch.Size([3, 3])"
            ]
          },
          "metadata": {},
          "execution_count": 4
        }
      ]
    },
    {
      "cell_type": "code",
      "source": [
        "t.reshape(1,9)"
      ],
      "metadata": {
        "colab": {
          "base_uri": "https://localhost:8080/"
        },
        "id": "NO4N3HDKZNDd",
        "outputId": "04c19618-eb61-48ac-dfc2-a1e6c2ea33da"
      },
      "execution_count": null,
      "outputs": [
        {
          "output_type": "execute_result",
          "data": {
            "text/plain": [
              "tensor([[1, 2, 3, 4, 5, 6, 7, 8, 9]])"
            ]
          },
          "metadata": {},
          "execution_count": 5
        }
      ]
    },
    {
      "cell_type": "code",
      "source": [
        "print(t.dtype)\n",
        "print(t.device)\n",
        "print(t.layout)\n",
        "# layout tell us how is our data is layout in memory"
      ],
      "metadata": {
        "colab": {
          "base_uri": "https://localhost:8080/"
        },
        "id": "Wd5JchEPZPWk",
        "outputId": "70c178fb-ec8c-4523-ba13-8bd3895e4fc7"
      },
      "execution_count": null,
      "outputs": [
        {
          "output_type": "stream",
          "name": "stdout",
          "text": [
            "torch.int64\n",
            "cpu\n",
            "torch.strided\n"
          ]
        }
      ]
    },
    {
      "cell_type": "markdown",
      "source": [
        "## Creating tensor from data"
      ],
      "metadata": {
        "id": "FxTreBcldxNY"
      }
    },
    {
      "cell_type": "code",
      "source": [
        "t = np.array([1,2,3])\n",
        "type(t)"
      ],
      "metadata": {
        "colab": {
          "base_uri": "https://localhost:8080/"
        },
        "id": "AbmQ7OCAc1H4",
        "outputId": "c333ba08-2d0e-416e-ef5a-3ae679b1d8f7"
      },
      "execution_count": null,
      "outputs": [
        {
          "output_type": "execute_result",
          "data": {
            "text/plain": [
              "numpy.ndarray"
            ]
          },
          "metadata": {},
          "execution_count": 21
        }
      ]
    },
    {
      "cell_type": "code",
      "source": [
        "t1 = torch.Tensor(t)\n",
        "t2 = torch.tensor(t)\n",
        "t3 = torch.as_tensor(t)\n",
        "t4 = torch.from_numpy(t)"
      ],
      "metadata": {
        "id": "5Uh-sPu_d10g"
      },
      "execution_count": null,
      "outputs": []
    },
    {
      "cell_type": "markdown",
      "source": [
        "t1 return floats, but the other three seemmingly the same"
      ],
      "metadata": {
        "id": "fdyp4SMVd8Hy"
      }
    },
    {
      "cell_type": "code",
      "source": [
        "print(t1.dtype)\n",
        "print(t2.dtype)\n",
        "print(t3.dtype)\n",
        "print(t4.dtype)"
      ],
      "metadata": {
        "colab": {
          "base_uri": "https://localhost:8080/"
        },
        "id": "IDDA5mxYC9Xr",
        "outputId": "a4ee380b-9663-4726-989d-9edd604c6397"
      },
      "execution_count": null,
      "outputs": [
        {
          "output_type": "stream",
          "name": "stdout",
          "text": [
            "torch.float32\n",
            "torch.int64\n",
            "torch.int64\n",
            "torch.int64\n"
          ]
        }
      ]
    },
    {
      "cell_type": "code",
      "source": [
        "torch.get_default_dtype()"
      ],
      "metadata": {
        "colab": {
          "base_uri": "https://localhost:8080/"
        },
        "id": "0xfkW_DCDh6L",
        "outputId": "09ab8405-77d6-430a-8ea1-d4fe4a5bfaea"
      },
      "execution_count": null,
      "outputs": [
        {
          "output_type": "execute_result",
          "data": {
            "text/plain": [
              "torch.float32"
            ]
          },
          "metadata": {},
          "execution_count": 15
        }
      ]
    },
    {
      "cell_type": "markdown",
      "source": [
        "the other three will infer the data type from the input since they are factory function"
      ],
      "metadata": {
        "id": "YF-D1wmJEJlT"
      }
    },
    {
      "cell_type": "code",
      "source": [
        "torch.tensor(np.array([1,2,3]))"
      ],
      "metadata": {
        "colab": {
          "base_uri": "https://localhost:8080/"
        },
        "id": "r9_COjbzDh-n",
        "outputId": "37b3d8eb-3698-4b27-dc4d-30f38646c562"
      },
      "execution_count": null,
      "outputs": [
        {
          "output_type": "execute_result",
          "data": {
            "text/plain": [
              "tensor([1, 2, 3])"
            ]
          },
          "metadata": {},
          "execution_count": 19
        }
      ]
    },
    {
      "cell_type": "code",
      "source": [
        "torch.tensor(np.array([1.,2.,3.]))"
      ],
      "metadata": {
        "colab": {
          "base_uri": "https://localhost:8080/"
        },
        "id": "hqoYuhKaDiA4",
        "outputId": "bd94594e-9b3c-426b-9cbe-19d30711ab8e"
      },
      "execution_count": null,
      "outputs": [
        {
          "output_type": "execute_result",
          "data": {
            "text/plain": [
              "tensor([1., 2., 3.], dtype=torch.float64)"
            ]
          },
          "metadata": {},
          "execution_count": 18
        }
      ]
    },
    {
      "cell_type": "code",
      "source": [
        "torch.tensor(np.array([1,2,3]),dtype = torch.float64)"
      ],
      "metadata": {
        "colab": {
          "base_uri": "https://localhost:8080/"
        },
        "id": "h3Fn9g3CDiDO",
        "outputId": "a38326d8-401c-4319-e3fe-a46dba2436e2"
      },
      "execution_count": null,
      "outputs": [
        {
          "output_type": "execute_result",
          "data": {
            "text/plain": [
              "tensor([1., 2., 3.], dtype=torch.float64)"
            ]
          },
          "metadata": {},
          "execution_count": 20
        }
      ]
    },
    {
      "cell_type": "markdown",
      "source": [
        "## Operations"
      ],
      "metadata": {
        "id": "96zSUbZ9ewjY"
      }
    },
    {
      "cell_type": "code",
      "source": [
        "print(torch.eye(2))\n",
        "print(torch.ones(2,2))\n",
        "print(torch.zeros(2,2))\n",
        "print(torch.rand(2,2))"
      ],
      "metadata": {
        "colab": {
          "base_uri": "https://localhost:8080/"
        },
        "id": "SzwN15RSeQn9",
        "outputId": "83fe71e9-3077-4df1-c352-ac08332f720d"
      },
      "execution_count": null,
      "outputs": [
        {
          "output_type": "stream",
          "name": "stdout",
          "text": [
            "tensor([[1., 0.],\n",
            "        [0., 1.]])\n",
            "tensor([[1., 1.],\n",
            "        [1., 1.]])\n",
            "tensor([[0., 0.],\n",
            "        [0., 0.]])\n",
            "tensor([[0.3820, 0.0061],\n",
            "        [0.5667, 0.9079]])\n"
          ]
        }
      ]
    },
    {
      "cell_type": "markdown",
      "source": [
        "## Sharing vs Copying"
      ],
      "metadata": {
        "id": "33Ie_o1HEhHg"
      }
    },
    {
      "cell_type": "code",
      "source": [
        "data = np.array([1,2,3])"
      ],
      "metadata": {
        "id": "5d1BQGRxEvwN"
      },
      "execution_count": null,
      "outputs": []
    },
    {
      "cell_type": "code",
      "source": [
        "t1 = torch.Tensor(data)\n",
        "t2 = torch.tensor(data)\n",
        "t3 = torch.as_tensor(data)\n",
        "t4 = torch.from_numpy(data)"
      ],
      "metadata": {
        "id": "VzB7mtfbElku"
      },
      "execution_count": null,
      "outputs": []
    },
    {
      "cell_type": "code",
      "source": [
        "# change the value of data but not the tensor\n",
        "data[0] = 0\n",
        "data[1] = 0\n",
        "data[2] = 0"
      ],
      "metadata": {
        "id": "rta5hYhqExI0"
      },
      "execution_count": null,
      "outputs": []
    },
    {
      "cell_type": "code",
      "source": [
        "# this two create additional copy of input data in memory\n",
        "print(t1)\n",
        "print(t2)\n",
        "# this two share input data in memory\n",
        "print(t3)\n",
        "print(t4)"
      ],
      "metadata": {
        "colab": {
          "base_uri": "https://localhost:8080/"
        },
        "id": "YsdilGknE0Wk",
        "outputId": "8deccab9-3553-46ea-b6f0-c985977508ae"
      },
      "execution_count": null,
      "outputs": [
        {
          "output_type": "stream",
          "name": "stdout",
          "text": [
            "tensor([1., 2., 3.])\n",
            "tensor([1, 2, 3])\n",
            "tensor([0, 0, 0])\n",
            "tensor([0, 0, 0])\n"
          ]
        }
      ]
    },
    {
      "cell_type": "markdown",
      "source": [
        "The **best copy function** is \"*torch.tensor*\" since it is factory function (so it infer data type from input data), while torch.Tensor is not (it use default data type).\n",
        "\n",
        "\n",
        "The **best sharing function** is \"*torch.as_tensor*\" since it takes any python data type as input, while torch.from_numpy only takes numpy variable.\n",
        "\n",
        "\n",
        "\n",
        "    1.由于numpy.ndaaray对象分配在CPU上，所以如果使用GPU的话，torch.as_tensor函数必须把数据从CPU上拷到GPU上\n",
        "    2.as_tensor()对于python内置的数据结构，如列表，是无效的\n",
        "    3.as_tensor的调用要求熟悉共享特征，以免对底层数据做不必要的更改，而影响到对象\n",
        "    4.当as_tensor和numpy.ndarray有大量的相互往返的操作时，对性能的提升会有较大的影响\n"
      ],
      "metadata": {
        "id": "mZWBWb_1GONg"
      }
    },
    {
      "cell_type": "code",
      "source": [
        "lsit = [1,2,3]"
      ],
      "metadata": {
        "id": "SbzYrovnFE-I"
      },
      "execution_count": null,
      "outputs": []
    },
    {
      "cell_type": "code",
      "source": [
        "list_tensor = torch.as_tensor(lsit)\n",
        "print(list_tensor)"
      ],
      "metadata": {
        "colab": {
          "base_uri": "https://localhost:8080/"
        },
        "id": "TiXtIdG8HqmK",
        "outputId": "dae389db-3cbf-4c27-ab04-9c4c464dd579"
      },
      "execution_count": null,
      "outputs": [
        {
          "output_type": "stream",
          "name": "stdout",
          "text": [
            "tensor([1, 2, 3])\n"
          ]
        }
      ]
    },
    {
      "cell_type": "code",
      "source": [
        "lsit[0] = 0\n",
        "lsit[1] = 0\n",
        "lsit[2] = 0"
      ],
      "metadata": {
        "id": "8lOkpA8ZH5oC"
      },
      "execution_count": null,
      "outputs": []
    },
    {
      "cell_type": "code",
      "source": [
        "print(list_tensor)"
      ],
      "metadata": {
        "colab": {
          "base_uri": "https://localhost:8080/"
        },
        "id": "wtQ-TBI2Hy51",
        "outputId": "51d26fc0-7351-4c1f-9a04-f1062c01537d"
      },
      "execution_count": null,
      "outputs": [
        {
          "output_type": "stream",
          "name": "stdout",
          "text": [
            "tensor([1, 2, 3])\n"
          ]
        }
      ]
    },
    {
      "cell_type": "code",
      "source": [],
      "metadata": {
        "id": "B2A2PoffIHWL"
      },
      "execution_count": null,
      "outputs": []
    },
    {
      "cell_type": "markdown",
      "source": [
        "# Tensor operation types\n",
        "\n",
        "\n",
        "    Reshaping operations\n",
        "    Element-wise operations\n",
        "    Reduction operations\n",
        "    Access operations\n"
      ],
      "metadata": {
        "id": "rOVk_WgvKu_n"
      }
    },
    {
      "cell_type": "markdown",
      "source": [
        "## Reshaping"
      ],
      "metadata": {
        "id": "jdJF5bWnLIEF"
      }
    },
    {
      "cell_type": "code",
      "source": [
        "t = torch.tensor([\n",
        "    [1,1,1,1],\n",
        "    [2,2,2,2],\n",
        "    [3,3,3,3]\n",
        "],dtype = torch.float32)"
      ],
      "metadata": {
        "id": "qJdaeW18K6f1"
      },
      "execution_count": null,
      "outputs": []
    },
    {
      "cell_type": "code",
      "source": [
        "t.size()"
      ],
      "metadata": {
        "colab": {
          "base_uri": "https://localhost:8080/"
        },
        "id": "gVD1yI3CLTbH",
        "outputId": "da95a561-1b07-4f03-ab0f-2db24d26df46"
      },
      "execution_count": null,
      "outputs": [
        {
          "output_type": "execute_result",
          "data": {
            "text/plain": [
              "torch.Size([3, 4])"
            ]
          },
          "metadata": {},
          "execution_count": 50
        }
      ]
    },
    {
      "cell_type": "code",
      "source": [
        "t.shape"
      ],
      "metadata": {
        "colab": {
          "base_uri": "https://localhost:8080/"
        },
        "id": "E-EUsnnSLXM7",
        "outputId": "af444fd4-8fff-464e-8615-1710da27d942"
      },
      "execution_count": null,
      "outputs": [
        {
          "output_type": "execute_result",
          "data": {
            "text/plain": [
              "torch.Size([3, 4])"
            ]
          },
          "metadata": {},
          "execution_count": 52
        }
      ]
    },
    {
      "cell_type": "code",
      "source": [
        "# the rank\n",
        "len(t.shape)"
      ],
      "metadata": {
        "colab": {
          "base_uri": "https://localhost:8080/"
        },
        "id": "OafpuDCYLYQs",
        "outputId": "ad69e0c6-fd7f-488b-8e9c-c4970e0b386e"
      },
      "execution_count": null,
      "outputs": [
        {
          "output_type": "execute_result",
          "data": {
            "text/plain": [
              "2"
            ]
          },
          "metadata": {},
          "execution_count": 55
        }
      ]
    },
    {
      "cell_type": "code",
      "source": [
        "torch.tensor(t.shape).prod()"
      ],
      "metadata": {
        "colab": {
          "base_uri": "https://localhost:8080/"
        },
        "id": "JMfEoDW2LbF0",
        "outputId": "cff8747b-0f08-4235-f299-87ed157cab2a"
      },
      "execution_count": null,
      "outputs": [
        {
          "output_type": "execute_result",
          "data": {
            "text/plain": [
              "tensor(12)"
            ]
          },
          "metadata": {},
          "execution_count": 56
        }
      ]
    },
    {
      "cell_type": "code",
      "source": [
        "# numel: number of elelment\n",
        "t.numel()"
      ],
      "metadata": {
        "colab": {
          "base_uri": "https://localhost:8080/"
        },
        "id": "LQAOXHWcLol_",
        "outputId": "1a2dc1a6-4655-43ba-a030-80e3df30b7b7"
      },
      "execution_count": null,
      "outputs": [
        {
          "output_type": "execute_result",
          "data": {
            "text/plain": [
              "12"
            ]
          },
          "metadata": {},
          "execution_count": 58
        }
      ]
    },
    {
      "cell_type": "code",
      "source": [
        "t.reshape(1,12)"
      ],
      "metadata": {
        "colab": {
          "base_uri": "https://localhost:8080/"
        },
        "id": "W8b7gP5CLqJK",
        "outputId": "0ffaeb36-10ec-41da-beb6-7dcd40ea257f"
      },
      "execution_count": null,
      "outputs": [
        {
          "output_type": "execute_result",
          "data": {
            "text/plain": [
              "tensor([[1., 1., 1., 1., 2., 2., 2., 2., 3., 3., 3., 3.]])"
            ]
          },
          "metadata": {},
          "execution_count": 59
        }
      ]
    },
    {
      "cell_type": "code",
      "source": [
        "t.reshape(2,6)"
      ],
      "metadata": {
        "colab": {
          "base_uri": "https://localhost:8080/"
        },
        "id": "jcpRs2-MLy-b",
        "outputId": "96a140c6-043f-4ef9-8782-e475539bd172"
      },
      "execution_count": null,
      "outputs": [
        {
          "output_type": "execute_result",
          "data": {
            "text/plain": [
              "tensor([[1., 1., 1., 1., 2., 2.],\n",
              "        [2., 2., 3., 3., 3., 3.]])"
            ]
          },
          "metadata": {},
          "execution_count": 60
        }
      ]
    },
    {
      "cell_type": "code",
      "source": [
        "t.reshape(3,4)"
      ],
      "metadata": {
        "colab": {
          "base_uri": "https://localhost:8080/"
        },
        "id": "0VEOtqokL0BW",
        "outputId": "ce96553a-f754-4867-f06b-954c319474ae"
      },
      "execution_count": null,
      "outputs": [
        {
          "output_type": "execute_result",
          "data": {
            "text/plain": [
              "tensor([[1., 1., 1., 1.],\n",
              "        [2., 2., 2., 2.],\n",
              "        [3., 3., 3., 3.]])"
            ]
          },
          "metadata": {},
          "execution_count": 62
        }
      ]
    },
    {
      "cell_type": "code",
      "source": [
        "t.reshape(4,3)"
      ],
      "metadata": {
        "colab": {
          "base_uri": "https://localhost:8080/"
        },
        "id": "ZhmGC1KNL1i_",
        "outputId": "5b1c59f3-cc3a-467e-ac8d-656c60e62509"
      },
      "execution_count": null,
      "outputs": [
        {
          "output_type": "execute_result",
          "data": {
            "text/plain": [
              "tensor([[1., 1., 1.],\n",
              "        [1., 2., 2.],\n",
              "        [2., 2., 3.],\n",
              "        [3., 3., 3.]])"
            ]
          },
          "metadata": {},
          "execution_count": 63
        }
      ]
    },
    {
      "cell_type": "code",
      "source": [
        "t.reshape(6,2)"
      ],
      "metadata": {
        "colab": {
          "base_uri": "https://localhost:8080/"
        },
        "id": "cQTyLVBKL34x",
        "outputId": "c09c309d-4ca5-48e7-bc85-2bde05a36259"
      },
      "execution_count": null,
      "outputs": [
        {
          "output_type": "execute_result",
          "data": {
            "text/plain": [
              "tensor([[1., 1.],\n",
              "        [1., 1.],\n",
              "        [2., 2.],\n",
              "        [2., 2.],\n",
              "        [3., 3.],\n",
              "        [3., 3.]])"
            ]
          },
          "metadata": {},
          "execution_count": 65
        }
      ]
    },
    {
      "cell_type": "code",
      "source": [
        "t.reshape(12,1)"
      ],
      "metadata": {
        "colab": {
          "base_uri": "https://localhost:8080/"
        },
        "id": "7hPI8RwTL5Pg",
        "outputId": "686d2ca5-3b7b-44a3-c67a-0de2609ac908"
      },
      "execution_count": null,
      "outputs": [
        {
          "output_type": "execute_result",
          "data": {
            "text/plain": [
              "tensor([[1.],\n",
              "        [1.],\n",
              "        [1.],\n",
              "        [1.],\n",
              "        [2.],\n",
              "        [2.],\n",
              "        [2.],\n",
              "        [2.],\n",
              "        [3.],\n",
              "        [3.],\n",
              "        [3.],\n",
              "        [3.]])"
            ]
          },
          "metadata": {},
          "execution_count": 66
        }
      ]
    },
    {
      "cell_type": "code",
      "source": [
        "t.reshape(2,2,3)"
      ],
      "metadata": {
        "colab": {
          "base_uri": "https://localhost:8080/"
        },
        "id": "O8DUEtdFL7zf",
        "outputId": "6a98b905-196b-4896-80ab-91ee5753fe61"
      },
      "execution_count": null,
      "outputs": [
        {
          "output_type": "execute_result",
          "data": {
            "text/plain": [
              "tensor([[[1., 1., 1.],\n",
              "         [1., 2., 2.]],\n",
              "\n",
              "        [[2., 2., 3.],\n",
              "         [3., 3., 3.]]])"
            ]
          },
          "metadata": {},
          "execution_count": 67
        }
      ]
    },
    {
      "cell_type": "code",
      "source": [
        "t.reshape(4,1,3)"
      ],
      "metadata": {
        "colab": {
          "base_uri": "https://localhost:8080/"
        },
        "id": "T7brQdyrM9T4",
        "outputId": "29bedb50-b4f7-43c0-940f-2651a2a1ab08"
      },
      "execution_count": null,
      "outputs": [
        {
          "output_type": "execute_result",
          "data": {
            "text/plain": [
              "tensor([[[1., 1., 1.]],\n",
              "\n",
              "        [[1., 2., 2.]],\n",
              "\n",
              "        [[2., 2., 3.]],\n",
              "\n",
              "        [[3., 3., 3.]]])"
            ]
          },
          "metadata": {},
          "execution_count": 73
        }
      ]
    },
    {
      "cell_type": "code",
      "source": [
        "print(t.reshape(1,12))\n",
        "print(t.reshape(1,12).shape)"
      ],
      "metadata": {
        "colab": {
          "base_uri": "https://localhost:8080/"
        },
        "id": "u03quu5cMAU2",
        "outputId": "49cf7128-a8cd-4362-ea0e-6184cf81136d"
      },
      "execution_count": null,
      "outputs": [
        {
          "output_type": "stream",
          "name": "stdout",
          "text": [
            "tensor([[1., 1., 1., 1., 2., 2., 2., 2., 3., 3., 3., 3.]])\n",
            "torch.Size([1, 12])\n"
          ]
        }
      ]
    },
    {
      "cell_type": "markdown",
      "source": [
        "squeeze() remove all the axis that has length 1"
      ],
      "metadata": {
        "id": "aGT61IARMZVi"
      }
    },
    {
      "cell_type": "code",
      "source": [
        "print(t.reshape(1,12).squeeze())\n",
        "print(t.reshape(1,12).squeeze().shape)"
      ],
      "metadata": {
        "colab": {
          "base_uri": "https://localhost:8080/"
        },
        "id": "XXnfmt1rMHxl",
        "outputId": "0a96feac-9f07-49c1-81b6-44a569b0828f"
      },
      "execution_count": null,
      "outputs": [
        {
          "output_type": "stream",
          "name": "stdout",
          "text": [
            "tensor([1., 1., 1., 1., 2., 2., 2., 2., 3., 3., 3., 3.])\n",
            "torch.Size([12])\n"
          ]
        }
      ]
    },
    {
      "cell_type": "markdown",
      "source": [
        "unsqueeze() add a dimension with a length of 1"
      ],
      "metadata": {
        "id": "Bc4YJ-lOMfJc"
      }
    },
    {
      "cell_type": "code",
      "source": [
        "print(t.reshape(1,12).squeeze().unsqueeze(dim=0))\n",
        "print(t.reshape(1,12).squeeze().unsqueeze(dim=0).shape)"
      ],
      "metadata": {
        "colab": {
          "base_uri": "https://localhost:8080/"
        },
        "id": "LfZkWcf6MPQw",
        "outputId": "4bea3352-cfed-4631-eb07-84b5feef0466"
      },
      "execution_count": null,
      "outputs": [
        {
          "output_type": "stream",
          "name": "stdout",
          "text": [
            "tensor([[1., 1., 1., 1., 2., 2., 2., 2., 3., 3., 3., 3.]])\n",
            "torch.Size([1, 12])\n"
          ]
        }
      ]
    },
    {
      "cell_type": "markdown",
      "source": [
        "### flatten"
      ],
      "metadata": {
        "id": "n2_6rtrCNjiM"
      }
    },
    {
      "cell_type": "code",
      "source": [
        "def flatten(x):\n",
        "  # -1 tells the reshape function to figure out what the value should be\n",
        "  x = x.reshape(1,-1)\n",
        "  x = x.squeeze()\n",
        "  return x"
      ],
      "metadata": {
        "id": "YCGY9_apMVk1"
      },
      "execution_count": null,
      "outputs": []
    },
    {
      "cell_type": "code",
      "source": [
        "flatten(t)"
      ],
      "metadata": {
        "colab": {
          "base_uri": "https://localhost:8080/"
        },
        "id": "acoFDBhxNuie",
        "outputId": "1d6b3098-a128-49d9-8674-1442f5125bc7"
      },
      "execution_count": null,
      "outputs": [
        {
          "output_type": "execute_result",
          "data": {
            "text/plain": [
              "tensor([1., 1., 1., 1., 2., 2., 2., 2., 3., 3., 3., 3.])"
            ]
          },
          "metadata": {},
          "execution_count": 111
        }
      ]
    },
    {
      "cell_type": "code",
      "source": [
        "t.reshape(1,12)"
      ],
      "metadata": {
        "colab": {
          "base_uri": "https://localhost:8080/"
        },
        "id": "ELT7nHsIOAAI",
        "outputId": "fb361d7f-3758-4c5c-c12d-7262ed964a0a"
      },
      "execution_count": null,
      "outputs": [
        {
          "output_type": "execute_result",
          "data": {
            "text/plain": [
              "tensor([[1., 1., 1., 1., 2., 2., 2., 2., 3., 3., 3., 3.]])"
            ]
          },
          "metadata": {},
          "execution_count": 112
        }
      ]
    },
    {
      "cell_type": "code",
      "source": [
        "t.reshape(1,12).squeeze()"
      ],
      "metadata": {
        "colab": {
          "base_uri": "https://localhost:8080/"
        },
        "id": "Hr_TQrgaODCf",
        "outputId": "83ce391e-7698-4fdc-b81c-59d9ed5bd59b"
      },
      "execution_count": null,
      "outputs": [
        {
          "output_type": "execute_result",
          "data": {
            "text/plain": [
              "tensor([1., 1., 1., 1., 2., 2., 2., 2., 3., 3., 3., 3.])"
            ]
          },
          "metadata": {},
          "execution_count": 113
        }
      ]
    },
    {
      "cell_type": "code",
      "source": [
        "t.reshape(1,-1)[0]"
      ],
      "metadata": {
        "colab": {
          "base_uri": "https://localhost:8080/"
        },
        "id": "nSKw98nJUwpl",
        "outputId": "4ed9d91a-c32d-41dd-f4a9-e32079f39da8"
      },
      "execution_count": null,
      "outputs": [
        {
          "output_type": "execute_result",
          "data": {
            "text/plain": [
              "tensor([1., 1., 1., 1., 2., 2., 2., 2., 3., 3., 3., 3.])"
            ]
          },
          "metadata": {},
          "execution_count": 115
        }
      ]
    },
    {
      "cell_type": "code",
      "source": [
        "t.reshape(-1)"
      ],
      "metadata": {
        "colab": {
          "base_uri": "https://localhost:8080/"
        },
        "id": "9wmVvLqHUzlE",
        "outputId": "55cf74bb-f2e6-4541-ad85-e2dac2d592a5"
      },
      "execution_count": null,
      "outputs": [
        {
          "output_type": "execute_result",
          "data": {
            "text/plain": [
              "tensor([1., 1., 1., 1., 2., 2., 2., 2., 3., 3., 3., 3.])"
            ]
          },
          "metadata": {},
          "execution_count": 116
        }
      ]
    },
    {
      "cell_type": "markdown",
      "source": [
        "### concatenating"
      ],
      "metadata": {
        "id": "WVawZWSeOPcF"
      }
    },
    {
      "cell_type": "code",
      "source": [
        "t1 = torch.tensor([\n",
        "    [1,2],\n",
        "    [3,4]\n",
        "])\n",
        "t2 = torch.tensor([\n",
        "    [5,6],\n",
        "    [7,8]\n",
        "])"
      ],
      "metadata": {
        "id": "bE0sCtZ0OJCK"
      },
      "execution_count": null,
      "outputs": []
    },
    {
      "cell_type": "markdown",
      "source": [
        "Combine two tensor row-wise axis = 0"
      ],
      "metadata": {
        "id": "G2h1tK2uOz43"
      }
    },
    {
      "cell_type": "code",
      "source": [
        "torch.cat((t1, t2), dim=0)"
      ],
      "metadata": {
        "colab": {
          "base_uri": "https://localhost:8080/"
        },
        "id": "Y9xMlpS7OzAl",
        "outputId": "8118d437-1f88-4ad9-e295-48f70a79a138"
      },
      "execution_count": null,
      "outputs": [
        {
          "output_type": "execute_result",
          "data": {
            "text/plain": [
              "tensor([[1, 2],\n",
              "        [3, 4],\n",
              "        [5, 6],\n",
              "        [7, 8]])"
            ]
          },
          "metadata": {},
          "execution_count": 79
        }
      ]
    },
    {
      "cell_type": "markdown",
      "source": [
        "Comnine two tensor col-wise axis = 1"
      ],
      "metadata": {
        "id": "ewjFga8zO7jf"
      }
    },
    {
      "cell_type": "code",
      "source": [
        "torch.cat((t1, t2), dim=1)"
      ],
      "metadata": {
        "colab": {
          "base_uri": "https://localhost:8080/"
        },
        "id": "UvW8v6lLO2cB",
        "outputId": "c0efbca5-3397-42d1-ad0c-fdf91bfe89ce"
      },
      "execution_count": null,
      "outputs": [
        {
          "output_type": "execute_result",
          "data": {
            "text/plain": [
              "tensor([[1, 2, 5, 6],\n",
              "        [3, 4, 7, 8]])"
            ]
          },
          "metadata": {},
          "execution_count": 80
        }
      ]
    },
    {
      "cell_type": "markdown",
      "source": [
        "### flatten operation visualization"
      ],
      "metadata": {
        "id": "J63F97RBPovs"
      }
    },
    {
      "cell_type": "code",
      "source": [
        "t1 = torch.tensor([\n",
        "    [1,1,1,1],\n",
        "    [1,1,1,1],\n",
        "    [1,1,1,1],\n",
        "    [1,1,1,1]\n",
        "])\n",
        "\n",
        "t2 = torch.tensor([\n",
        "    [2,2,2,2],\n",
        "    [2,2,2,2],\n",
        "    [2,2,2,2],\n",
        "    [2,2,2,2]\n",
        "])\n",
        "\n",
        "t3 = torch.tensor([\n",
        "    [3,3,3,3],\n",
        "    [3,3,3,3],\n",
        "    [3,3,3,3],\n",
        "    [3,3,3,3]\n",
        "])"
      ],
      "metadata": {
        "id": "a0BBAtLjPBiV"
      },
      "execution_count": null,
      "outputs": []
    },
    {
      "cell_type": "markdown",
      "source": [
        "concatenate three tensor along a new axis"
      ],
      "metadata": {
        "id": "BOM4wybhQ4xi"
      }
    },
    {
      "cell_type": "code",
      "source": [
        "t = torch.stack((t1,t2,t3))\n",
        "t.shape"
      ],
      "metadata": {
        "colab": {
          "base_uri": "https://localhost:8080/"
        },
        "id": "FX9yGn61Qltk",
        "outputId": "add557fc-ebd5-4ebf-fba4-13ef1141d78d"
      },
      "execution_count": null,
      "outputs": [
        {
          "output_type": "execute_result",
          "data": {
            "text/plain": [
              "torch.Size([3, 4, 4])"
            ]
          },
          "metadata": {},
          "execution_count": 118
        }
      ]
    },
    {
      "cell_type": "markdown",
      "source": [
        "the first axis represent the number of batch\n",
        "the second and the third represent the height and width of single batch"
      ],
      "metadata": {
        "id": "cFHIdcbkRCNt"
      }
    },
    {
      "cell_type": "code",
      "source": [
        "t"
      ],
      "metadata": {
        "colab": {
          "base_uri": "https://localhost:8080/"
        },
        "id": "0zPKpTfkQyd1",
        "outputId": "6b3bc39a-3af8-4011-86ff-553f61fd2267"
      },
      "execution_count": null,
      "outputs": [
        {
          "output_type": "execute_result",
          "data": {
            "text/plain": [
              "tensor([[[1, 1, 1, 1],\n",
              "         [1, 1, 1, 1],\n",
              "         [1, 1, 1, 1],\n",
              "         [1, 1, 1, 1]],\n",
              "\n",
              "        [[2, 2, 2, 2],\n",
              "         [2, 2, 2, 2],\n",
              "         [2, 2, 2, 2],\n",
              "         [2, 2, 2, 2]],\n",
              "\n",
              "        [[3, 3, 3, 3],\n",
              "         [3, 3, 3, 3],\n",
              "         [3, 3, 3, 3],\n",
              "         [3, 3, 3, 3]]])"
            ]
          },
          "metadata": {},
          "execution_count": 119
        }
      ]
    },
    {
      "cell_type": "code",
      "source": [
        "t = t.reshape(3,1,4,4)"
      ],
      "metadata": {
        "id": "Ql5ZTlnxQzlw"
      },
      "execution_count": null,
      "outputs": []
    },
    {
      "cell_type": "code",
      "source": [
        "t"
      ],
      "metadata": {
        "colab": {
          "base_uri": "https://localhost:8080/"
        },
        "id": "E47iQGWJTJah",
        "outputId": "b3dfe90c-8773-40fd-b7ef-ddbc24efe28c"
      },
      "execution_count": null,
      "outputs": [
        {
          "output_type": "execute_result",
          "data": {
            "text/plain": [
              "tensor([[[[1, 1, 1, 1],\n",
              "          [1, 1, 1, 1],\n",
              "          [1, 1, 1, 1],\n",
              "          [1, 1, 1, 1]]],\n",
              "\n",
              "\n",
              "        [[[2, 2, 2, 2],\n",
              "          [2, 2, 2, 2],\n",
              "          [2, 2, 2, 2],\n",
              "          [2, 2, 2, 2]]],\n",
              "\n",
              "\n",
              "        [[[3, 3, 3, 3],\n",
              "          [3, 3, 3, 3],\n",
              "          [3, 3, 3, 3],\n",
              "          [3, 3, 3, 3]]]])"
            ]
          },
          "metadata": {},
          "execution_count": 121
        }
      ]
    },
    {
      "cell_type": "markdown",
      "source": [
        "\n",
        "\n",
        "*   each element in the first axis represent a image\n",
        "*   for each image, there's a single color channel\n",
        "*   in each channel it containg a 4 by 4 array\n",
        "\n"
      ],
      "metadata": {
        "id": "2GGeGds_R7W-"
      }
    },
    {
      "cell_type": "code",
      "source": [
        "t[0] # first image"
      ],
      "metadata": {
        "colab": {
          "base_uri": "https://localhost:8080/"
        },
        "id": "LRZe1zovROem",
        "outputId": "f090681c-dc97-43af-b6bc-7bddb7a20d56"
      },
      "execution_count": null,
      "outputs": [
        {
          "output_type": "execute_result",
          "data": {
            "text/plain": [
              "tensor([[[1, 1, 1, 1],\n",
              "         [1, 1, 1, 1],\n",
              "         [1, 1, 1, 1],\n",
              "         [1, 1, 1, 1]]])"
            ]
          },
          "metadata": {},
          "execution_count": 122
        }
      ]
    },
    {
      "cell_type": "code",
      "source": [
        "t[0][0] # first color channel in the first image"
      ],
      "metadata": {
        "colab": {
          "base_uri": "https://localhost:8080/"
        },
        "id": "OFs8mvv3Rs32",
        "outputId": "31f90e28-261f-409f-cab3-b2aac82c0e79"
      },
      "execution_count": null,
      "outputs": [
        {
          "output_type": "execute_result",
          "data": {
            "text/plain": [
              "tensor([[1, 1, 1, 1],\n",
              "        [1, 1, 1, 1],\n",
              "        [1, 1, 1, 1],\n",
              "        [1, 1, 1, 1]])"
            ]
          },
          "metadata": {},
          "execution_count": 123
        }
      ]
    },
    {
      "cell_type": "code",
      "source": [
        "t[0][0][0] # first row of pixel in first color channel in the first image"
      ],
      "metadata": {
        "colab": {
          "base_uri": "https://localhost:8080/"
        },
        "id": "VL_AbMf_Rt89",
        "outputId": "314b10fd-4c75-455e-b056-2d5fd3644826"
      },
      "execution_count": null,
      "outputs": [
        {
          "output_type": "execute_result",
          "data": {
            "text/plain": [
              "tensor([1, 1, 1, 1])"
            ]
          },
          "metadata": {},
          "execution_count": 124
        }
      ]
    },
    {
      "cell_type": "code",
      "source": [
        "t[0][0][0][0] # first pixel in that first row"
      ],
      "metadata": {
        "colab": {
          "base_uri": "https://localhost:8080/"
        },
        "id": "i7tEtAhhTXQ2",
        "outputId": "a15e5878-05f4-4cf4-f853-e339a6d1671f"
      },
      "execution_count": null,
      "outputs": [
        {
          "output_type": "execute_result",
          "data": {
            "text/plain": [
              "tensor(1)"
            ]
          },
          "metadata": {},
          "execution_count": 125
        }
      ]
    },
    {
      "cell_type": "markdown",
      "source": [
        "flatten the entire tensor"
      ],
      "metadata": {
        "id": "q_pqLaT4UQ39"
      }
    },
    {
      "cell_type": "code",
      "source": [
        "t.reshape(1,-1)[0]"
      ],
      "metadata": {
        "colab": {
          "base_uri": "https://localhost:8080/"
        },
        "id": "DhKQLTn2RvKh",
        "outputId": "2fd94a46-cd42-4918-ad8e-172f8d345142"
      },
      "execution_count": null,
      "outputs": [
        {
          "output_type": "execute_result",
          "data": {
            "text/plain": [
              "tensor([1, 1, 1, 1, 1, 1, 1, 1, 1, 1, 1, 1, 1, 1, 1, 1, 2, 2, 2, 2, 2, 2, 2, 2,\n",
              "        2, 2, 2, 2, 2, 2, 2, 2, 3, 3, 3, 3, 3, 3, 3, 3, 3, 3, 3, 3, 3, 3, 3, 3])"
            ]
          },
          "metadata": {},
          "execution_count": 126
        }
      ]
    },
    {
      "cell_type": "code",
      "source": [
        "t.reshape(-1)"
      ],
      "metadata": {
        "colab": {
          "base_uri": "https://localhost:8080/"
        },
        "id": "zglm3u3TTsTZ",
        "outputId": "98c30b3f-d3c0-4024-83d6-01b49d7af7c4"
      },
      "execution_count": null,
      "outputs": [
        {
          "output_type": "execute_result",
          "data": {
            "text/plain": [
              "tensor([1, 1, 1, 1, 1, 1, 1, 1, 1, 1, 1, 1, 1, 1, 1, 1, 2, 2, 2, 2, 2, 2, 2, 2,\n",
              "        2, 2, 2, 2, 2, 2, 2, 2, 3, 3, 3, 3, 3, 3, 3, 3, 3, 3, 3, 3, 3, 3, 3, 3])"
            ]
          },
          "metadata": {},
          "execution_count": 127
        }
      ]
    },
    {
      "cell_type": "code",
      "source": [
        "t.view(t.numel())"
      ],
      "metadata": {
        "colab": {
          "base_uri": "https://localhost:8080/"
        },
        "id": "bX30s9T0Tzuf",
        "outputId": "5b81d95c-3e5d-4a61-91c1-e96178c0dbfc"
      },
      "execution_count": null,
      "outputs": [
        {
          "output_type": "execute_result",
          "data": {
            "text/plain": [
              "tensor([1, 1, 1, 1, 1, 1, 1, 1, 1, 1, 1, 1, 1, 1, 1, 1, 2, 2, 2, 2, 2, 2, 2, 2,\n",
              "        2, 2, 2, 2, 2, 2, 2, 2, 3, 3, 3, 3, 3, 3, 3, 3, 3, 3, 3, 3, 3, 3, 3, 3])"
            ]
          },
          "metadata": {},
          "execution_count": 128
        }
      ]
    },
    {
      "cell_type": "code",
      "source": [
        "t.flatten()"
      ],
      "metadata": {
        "colab": {
          "base_uri": "https://localhost:8080/"
        },
        "id": "lLxsY4DzT271",
        "outputId": "99a71c6c-e535-46d3-aaf0-c9fc44cc560b"
      },
      "execution_count": null,
      "outputs": [
        {
          "output_type": "execute_result",
          "data": {
            "text/plain": [
              "tensor([1, 1, 1, 1, 1, 1, 1, 1, 1, 1, 1, 1, 1, 1, 1, 1, 2, 2, 2, 2, 2, 2, 2, 2,\n",
              "        2, 2, 2, 2, 2, 2, 2, 2, 3, 3, 3, 3, 3, 3, 3, 3, 3, 3, 3, 3, 3, 3, 3, 3])"
            ]
          },
          "metadata": {},
          "execution_count": 129
        }
      ]
    },
    {
      "cell_type": "code",
      "source": [
        "t.flatten().shape"
      ],
      "metadata": {
        "colab": {
          "base_uri": "https://localhost:8080/"
        },
        "id": "OYKv_DqqT43z",
        "outputId": "69e487a3-ef3f-46ee-bc3c-19a538341d2d"
      },
      "execution_count": null,
      "outputs": [
        {
          "output_type": "execute_result",
          "data": {
            "text/plain": [
              "torch.Size([48])"
            ]
          },
          "metadata": {},
          "execution_count": 130
        }
      ]
    },
    {
      "cell_type": "markdown",
      "source": [
        "flatten the image tensor (element in the first axis) in the entire tensor"
      ],
      "metadata": {
        "id": "yb9pnpBvSYsl"
      }
    },
    {
      "cell_type": "code",
      "source": [
        "t.flatten(start_dim = 1).shape"
      ],
      "metadata": {
        "colab": {
          "base_uri": "https://localhost:8080/"
        },
        "id": "evTQXOt5UICV",
        "outputId": "bfd53255-7a24-40d5-8609-393ca9b12e73"
      },
      "execution_count": null,
      "outputs": [
        {
          "output_type": "execute_result",
          "data": {
            "text/plain": [
              "torch.Size([3, 16])"
            ]
          },
          "metadata": {},
          "execution_count": 131
        }
      ]
    },
    {
      "cell_type": "code",
      "source": [
        "t.flatten(start_dim = 1)"
      ],
      "metadata": {
        "colab": {
          "base_uri": "https://localhost:8080/"
        },
        "id": "SmZyaVm-UY06",
        "outputId": "eed2b0f7-0f72-4103-a029-6aa150946029"
      },
      "execution_count": null,
      "outputs": [
        {
          "output_type": "execute_result",
          "data": {
            "text/plain": [
              "tensor([[1, 1, 1, 1, 1, 1, 1, 1, 1, 1, 1, 1, 1, 1, 1, 1],\n",
              "        [2, 2, 2, 2, 2, 2, 2, 2, 2, 2, 2, 2, 2, 2, 2, 2],\n",
              "        [3, 3, 3, 3, 3, 3, 3, 3, 3, 3, 3, 3, 3, 3, 3, 3]])"
            ]
          },
          "metadata": {},
          "execution_count": 132
        }
      ]
    },
    {
      "cell_type": "code",
      "source": [
        "t.reshape(3,16)"
      ],
      "metadata": {
        "colab": {
          "base_uri": "https://localhost:8080/"
        },
        "id": "SeR9sVvaUcsT",
        "outputId": "46cbb4e1-c067-473e-89e7-a418d79e4b49"
      },
      "execution_count": null,
      "outputs": [
        {
          "output_type": "execute_result",
          "data": {
            "text/plain": [
              "tensor([[1, 1, 1, 1, 1, 1, 1, 1, 1, 1, 1, 1, 1, 1, 1, 1],\n",
              "        [2, 2, 2, 2, 2, 2, 2, 2, 2, 2, 2, 2, 2, 2, 2, 2],\n",
              "        [3, 3, 3, 3, 3, 3, 3, 3, 3, 3, 3, 3, 3, 3, 3, 3]])"
            ]
          },
          "metadata": {},
          "execution_count": 135
        }
      ]
    },
    {
      "cell_type": "code",
      "source": [
        "t.reshape(3,-1)"
      ],
      "metadata": {
        "colab": {
          "base_uri": "https://localhost:8080/"
        },
        "id": "hk12ooeFVOLD",
        "outputId": "17e8d945-ea40-46be-a8e9-06a13c9186d3"
      },
      "execution_count": null,
      "outputs": [
        {
          "output_type": "execute_result",
          "data": {
            "text/plain": [
              "tensor([[1, 1, 1, 1, 1, 1, 1, 1, 1, 1, 1, 1, 1, 1, 1, 1],\n",
              "        [2, 2, 2, 2, 2, 2, 2, 2, 2, 2, 2, 2, 2, 2, 2, 2],\n",
              "        [3, 3, 3, 3, 3, 3, 3, 3, 3, 3, 3, 3, 3, 3, 3, 3]])"
            ]
          },
          "metadata": {},
          "execution_count": 137
        }
      ]
    },
    {
      "cell_type": "code",
      "source": [],
      "metadata": {
        "id": "Htd9lsJlVS2u"
      },
      "execution_count": null,
      "outputs": []
    },
    {
      "cell_type": "markdown",
      "source": [
        "## element wise\n",
        "\n",
        "two tensor must have the same shape"
      ],
      "metadata": {
        "id": "hJ76FRy-VuFJ"
      }
    },
    {
      "cell_type": "code",
      "source": [
        "t1 = torch.tensor([\n",
        "    [1,2],\n",
        "    [3,4]\n",
        "],dtype = torch.float32)\n",
        "\n",
        "t2 = torch.tensor([\n",
        "    [9,8],\n",
        "    [7,6]\n",
        "],dtype = torch.float32)"
      ],
      "metadata": {
        "id": "60QklBqVVyJi"
      },
      "execution_count": null,
      "outputs": []
    },
    {
      "cell_type": "code",
      "source": [
        "t1[0][0]"
      ],
      "metadata": {
        "colab": {
          "base_uri": "https://localhost:8080/"
        },
        "id": "tFzolX-wWHfz",
        "outputId": "36df9af8-72ac-423b-a73e-b0a819e3a0f2"
      },
      "execution_count": null,
      "outputs": [
        {
          "output_type": "execute_result",
          "data": {
            "text/plain": [
              "tensor(1.)"
            ]
          },
          "metadata": {},
          "execution_count": 139
        }
      ]
    },
    {
      "cell_type": "code",
      "source": [
        "t2[0][0]"
      ],
      "metadata": {
        "colab": {
          "base_uri": "https://localhost:8080/"
        },
        "id": "IY5T0Qk_WUR4",
        "outputId": "f64cc807-63e1-49be-dd5d-0c64c7e70081"
      },
      "execution_count": null,
      "outputs": [
        {
          "output_type": "execute_result",
          "data": {
            "text/plain": [
              "tensor(9.)"
            ]
          },
          "metadata": {},
          "execution_count": 140
        }
      ]
    },
    {
      "cell_type": "markdown",
      "source": [
        "### Addition/subtract/mult/divi"
      ],
      "metadata": {
        "id": "B2ILVpxiWjuc"
      }
    },
    {
      "cell_type": "code",
      "source": [
        "t1 + t2"
      ],
      "metadata": {
        "colab": {
          "base_uri": "https://localhost:8080/"
        },
        "id": "i-IsrQHeWVTU",
        "outputId": "704d8cd1-8eae-490a-a3c0-904ea26e8db4"
      },
      "execution_count": null,
      "outputs": [
        {
          "output_type": "execute_result",
          "data": {
            "text/plain": [
              "tensor([[10., 10.],\n",
              "        [10., 10.]])"
            ]
          },
          "metadata": {},
          "execution_count": 141
        }
      ]
    },
    {
      "cell_type": "code",
      "source": [
        "t1-t2"
      ],
      "metadata": {
        "colab": {
          "base_uri": "https://localhost:8080/"
        },
        "id": "eUCRHafJWhYG",
        "outputId": "e9cb4244-7f47-47e2-de08-4f776f0bcb77"
      },
      "execution_count": null,
      "outputs": [
        {
          "output_type": "execute_result",
          "data": {
            "text/plain": [
              "tensor([[-8., -6.],\n",
              "        [-4., -2.]])"
            ]
          },
          "metadata": {},
          "execution_count": 142
        }
      ]
    },
    {
      "cell_type": "code",
      "source": [
        "t1*t2"
      ],
      "metadata": {
        "colab": {
          "base_uri": "https://localhost:8080/"
        },
        "id": "xiSW_ImuWqu5",
        "outputId": "83e6ee7a-190a-4e9a-bc88-e9f69e5270a6"
      },
      "execution_count": null,
      "outputs": [
        {
          "output_type": "execute_result",
          "data": {
            "text/plain": [
              "tensor([[ 9., 16.],\n",
              "        [21., 24.]])"
            ]
          },
          "metadata": {},
          "execution_count": 143
        }
      ]
    },
    {
      "cell_type": "code",
      "source": [
        "t1/t2"
      ],
      "metadata": {
        "colab": {
          "base_uri": "https://localhost:8080/"
        },
        "id": "Dzqrd158Wr2i",
        "outputId": "b5b564ac-a3ba-4aa5-8985-a9e28d0118c3"
      },
      "execution_count": null,
      "outputs": [
        {
          "output_type": "execute_result",
          "data": {
            "text/plain": [
              "tensor([[0.1111, 0.2500],\n",
              "        [0.4286, 0.6667]])"
            ]
          },
          "metadata": {},
          "execution_count": 144
        }
      ]
    },
    {
      "cell_type": "code",
      "source": [
        "t1+2"
      ],
      "metadata": {
        "colab": {
          "base_uri": "https://localhost:8080/"
        },
        "id": "IurvPuwTWs5D",
        "outputId": "fce5fb6f-d5e2-4e08-a26c-66fb1ff22158"
      },
      "execution_count": null,
      "outputs": [
        {
          "output_type": "execute_result",
          "data": {
            "text/plain": [
              "tensor([[3., 4.],\n",
              "        [5., 6.]])"
            ]
          },
          "metadata": {},
          "execution_count": 145
        }
      ]
    },
    {
      "cell_type": "code",
      "source": [
        "t1-2"
      ],
      "metadata": {
        "colab": {
          "base_uri": "https://localhost:8080/"
        },
        "id": "XJdqq6yIW8Co",
        "outputId": "825df068-77b3-4db4-95c8-03f0daff717e"
      },
      "execution_count": null,
      "outputs": [
        {
          "output_type": "execute_result",
          "data": {
            "text/plain": [
              "tensor([[-1.,  0.],\n",
              "        [ 1.,  2.]])"
            ]
          },
          "metadata": {},
          "execution_count": 146
        }
      ]
    },
    {
      "cell_type": "code",
      "source": [
        "t1*2"
      ],
      "metadata": {
        "colab": {
          "base_uri": "https://localhost:8080/"
        },
        "id": "DjDmTkLaW9UL",
        "outputId": "a31cdc86-bf88-41fb-a961-cc9715084370"
      },
      "execution_count": null,
      "outputs": [
        {
          "output_type": "execute_result",
          "data": {
            "text/plain": [
              "tensor([[2., 4.],\n",
              "        [6., 8.]])"
            ]
          },
          "metadata": {},
          "execution_count": 147
        }
      ]
    },
    {
      "cell_type": "code",
      "source": [
        "t1/2"
      ],
      "metadata": {
        "colab": {
          "base_uri": "https://localhost:8080/"
        },
        "id": "cprJP3_kW_BV",
        "outputId": "65ad6725-0cc4-4320-9556-319eb0a853d1"
      },
      "execution_count": null,
      "outputs": [
        {
          "output_type": "execute_result",
          "data": {
            "text/plain": [
              "tensor([[0.5000, 1.0000],\n",
              "        [1.5000, 2.0000]])"
            ]
          },
          "metadata": {},
          "execution_count": 148
        }
      ]
    },
    {
      "cell_type": "markdown",
      "source": [
        "but 2 is zero shape tensor, NOT THE SHAME SHAPE AS t1 !!!!!!!!"
      ],
      "metadata": {
        "id": "NDdVG0DWXAwA"
      }
    },
    {
      "cell_type": "markdown",
      "source": [
        "### tensor broadcasting\n",
        "\n",
        "how tensor with different shape are treated in elelment wise operation\n",
        "\n",
        "e.g. for above examples, 2 is bradcast to the shape of t1 and then operating elemenwise addition"
      ],
      "metadata": {
        "id": "_2P8aoikXUF4"
      }
    },
    {
      "cell_type": "code",
      "source": [
        "np.broadcast_to(2,t1.shape)"
      ],
      "metadata": {
        "colab": {
          "base_uri": "https://localhost:8080/"
        },
        "id": "4CwZC5c5W_rZ",
        "outputId": "c2c9c15f-a1a5-4e79-f410-3e43e7dae366"
      },
      "execution_count": null,
      "outputs": [
        {
          "output_type": "execute_result",
          "data": {
            "text/plain": [
              "array([[2, 2],\n",
              "       [2, 2]])"
            ]
          },
          "metadata": {},
          "execution_count": 150
        }
      ]
    },
    {
      "cell_type": "code",
      "source": [
        "t1 + torch.tensor(np.broadcast_to(2,t1.shape),dtype = torch.float32)"
      ],
      "metadata": {
        "colab": {
          "base_uri": "https://localhost:8080/"
        },
        "id": "eACgU5xAXsp7",
        "outputId": "ed0545dd-d37f-4b65-8b9b-d1451b984fc8"
      },
      "execution_count": null,
      "outputs": [
        {
          "output_type": "execute_result",
          "data": {
            "text/plain": [
              "tensor([[3., 4.],\n",
              "        [5., 6.]])"
            ]
          },
          "metadata": {},
          "execution_count": 151
        }
      ]
    },
    {
      "cell_type": "code",
      "source": [
        "t1 + 2"
      ],
      "metadata": {
        "colab": {
          "base_uri": "https://localhost:8080/"
        },
        "id": "Hg5owxvUX4pU",
        "outputId": "0f299107-b5a9-46b2-bd4a-77881b5ca09e"
      },
      "execution_count": null,
      "outputs": [
        {
          "output_type": "execute_result",
          "data": {
            "text/plain": [
              "tensor([[3., 4.],\n",
              "        [5., 6.]])"
            ]
          },
          "metadata": {},
          "execution_count": 153
        }
      ]
    },
    {
      "cell_type": "markdown",
      "source": [
        "another example"
      ],
      "metadata": {
        "id": "CzPVlpM3YIJ1"
      }
    },
    {
      "cell_type": "code",
      "source": [
        "t1 = torch.tensor([\n",
        "    [1,1],\n",
        "    [1,1]\n",
        "],dtype = torch.float32)\n",
        "\n",
        "t2 = torch.tensor([2,4],dtype = torch.float32)"
      ],
      "metadata": {
        "id": "mbv6IcMgX6TA"
      },
      "execution_count": null,
      "outputs": []
    },
    {
      "cell_type": "code",
      "source": [
        "t1.shape"
      ],
      "metadata": {
        "colab": {
          "base_uri": "https://localhost:8080/"
        },
        "id": "-Cqx261SYPwN",
        "outputId": "368810b2-b6a4-4a45-8386-337eb63f813e"
      },
      "execution_count": null,
      "outputs": [
        {
          "output_type": "execute_result",
          "data": {
            "text/plain": [
              "torch.Size([2, 2])"
            ]
          },
          "metadata": {},
          "execution_count": 156
        }
      ]
    },
    {
      "cell_type": "code",
      "source": [
        "t2.shape"
      ],
      "metadata": {
        "colab": {
          "base_uri": "https://localhost:8080/"
        },
        "id": "cAGeWEaNYcPf",
        "outputId": "dc434026-0022-4a92-837a-0e15d205d6e9"
      },
      "execution_count": null,
      "outputs": [
        {
          "output_type": "execute_result",
          "data": {
            "text/plain": [
              "torch.Size([2])"
            ]
          },
          "metadata": {},
          "execution_count": 157
        }
      ]
    },
    {
      "cell_type": "code",
      "source": [
        "np.broadcast_to(t2.numpy(),t1.shape)"
      ],
      "metadata": {
        "colab": {
          "base_uri": "https://localhost:8080/"
        },
        "id": "JCzfrQuiYcyK",
        "outputId": "8c06c127-8d65-44f8-ad4d-5f6fd691f4f3"
      },
      "execution_count": null,
      "outputs": [
        {
          "output_type": "execute_result",
          "data": {
            "text/plain": [
              "array([[2., 4.],\n",
              "       [2., 4.]], dtype=float32)"
            ]
          },
          "metadata": {},
          "execution_count": 164
        }
      ]
    },
    {
      "cell_type": "code",
      "source": [
        "t1 + t2"
      ],
      "metadata": {
        "colab": {
          "base_uri": "https://localhost:8080/"
        },
        "id": "1HBsPhO2YhJ_",
        "outputId": "cb3ab488-2e36-4ef6-9123-96ac5b70932b"
      },
      "execution_count": null,
      "outputs": [
        {
          "output_type": "execute_result",
          "data": {
            "text/plain": [
              "tensor([[3., 5.],\n",
              "        [3., 5.]])"
            ]
          },
          "metadata": {},
          "execution_count": 165
        }
      ]
    },
    {
      "cell_type": "code",
      "source": [
        "torch.tensor([[1, 2, 3]]) + torch.tensor([[4],[5],[6]])"
      ],
      "metadata": {
        "colab": {
          "base_uri": "https://localhost:8080/"
        },
        "id": "yLaRFUHOY4Zz",
        "outputId": "888ceb6f-1207-448b-a98d-9761d825054d"
      },
      "execution_count": null,
      "outputs": [
        {
          "output_type": "execute_result",
          "data": {
            "text/plain": [
              "tensor([[5, 6, 7],\n",
              "        [6, 7, 8],\n",
              "        [7, 8, 9]])"
            ]
          },
          "metadata": {},
          "execution_count": 182
        }
      ]
    },
    {
      "cell_type": "markdown",
      "source": [
        "### Comparison"
      ],
      "metadata": {
        "id": "9saiDujnZswq"
      }
    },
    {
      "cell_type": "code",
      "source": [
        "t = torch.tensor([\n",
        "    [0,5,7],\n",
        "    [6,0,7],\n",
        "    [0,8,0]\n",
        "],dtype = torch.float32)"
      ],
      "metadata": {
        "id": "ORPUIo3xZuYr"
      },
      "execution_count": null,
      "outputs": []
    },
    {
      "cell_type": "code",
      "source": [
        "t.eq(0)"
      ],
      "metadata": {
        "colab": {
          "base_uri": "https://localhost:8080/"
        },
        "id": "fJT46mxzZ3UV",
        "outputId": "2d8694fb-dae0-442f-caca-c091cbc82b2c"
      },
      "execution_count": null,
      "outputs": [
        {
          "output_type": "execute_result",
          "data": {
            "text/plain": [
              "tensor([[ True, False, False],\n",
              "        [False,  True, False],\n",
              "        [ True, False,  True]])"
            ]
          },
          "metadata": {},
          "execution_count": 167
        }
      ]
    },
    {
      "cell_type": "code",
      "source": [
        "t.ge(0)"
      ],
      "metadata": {
        "colab": {
          "base_uri": "https://localhost:8080/"
        },
        "id": "2c6HnDHCZ4aT",
        "outputId": "b8f4e014-09db-4c11-bcaa-68bb8cf0af41"
      },
      "execution_count": null,
      "outputs": [
        {
          "output_type": "execute_result",
          "data": {
            "text/plain": [
              "tensor([[True, True, True],\n",
              "        [True, True, True],\n",
              "        [True, True, True]])"
            ]
          },
          "metadata": {},
          "execution_count": 168
        }
      ]
    },
    {
      "cell_type": "code",
      "source": [
        "t.gt(0)"
      ],
      "metadata": {
        "colab": {
          "base_uri": "https://localhost:8080/"
        },
        "id": "WqNAS-FMZ5jv",
        "outputId": "dee49a57-5574-4617-c93e-3489a56700e6"
      },
      "execution_count": null,
      "outputs": [
        {
          "output_type": "execute_result",
          "data": {
            "text/plain": [
              "tensor([[False,  True,  True],\n",
              "        [ True, False,  True],\n",
              "        [False,  True, False]])"
            ]
          },
          "metadata": {},
          "execution_count": 171
        }
      ]
    },
    {
      "cell_type": "code",
      "source": [
        "t.lt(0)"
      ],
      "metadata": {
        "colab": {
          "base_uri": "https://localhost:8080/"
        },
        "id": "i9pZvQrdZ6py",
        "outputId": "bbbf4821-6328-4753-9b23-6c8e725ca811"
      },
      "execution_count": null,
      "outputs": [
        {
          "output_type": "execute_result",
          "data": {
            "text/plain": [
              "tensor([[False, False, False],\n",
              "        [False, False, False],\n",
              "        [False, False, False]])"
            ]
          },
          "metadata": {},
          "execution_count": 173
        }
      ]
    },
    {
      "cell_type": "code",
      "source": [
        "t.le(0)"
      ],
      "metadata": {
        "colab": {
          "base_uri": "https://localhost:8080/"
        },
        "id": "1ZvKwfbEaCin",
        "outputId": "6082b22d-b477-493d-9129-cf86d6339558"
      },
      "execution_count": null,
      "outputs": [
        {
          "output_type": "execute_result",
          "data": {
            "text/plain": [
              "tensor([[ True, False, False],\n",
              "        [False,  True, False],\n",
              "        [ True, False,  True]])"
            ]
          },
          "metadata": {},
          "execution_count": 174
        }
      ]
    },
    {
      "cell_type": "code",
      "source": [
        "t.le(t)"
      ],
      "metadata": {
        "colab": {
          "base_uri": "https://localhost:8080/"
        },
        "id": "JqfyNqU2aEiq",
        "outputId": "4a1fc3ee-06e1-4d1d-a75d-0802d2ca8594"
      },
      "execution_count": null,
      "outputs": [
        {
          "output_type": "execute_result",
          "data": {
            "text/plain": [
              "tensor([[True, True, True],\n",
              "        [True, True, True],\n",
              "        [True, True, True]])"
            ]
          },
          "metadata": {},
          "execution_count": 175
        }
      ]
    },
    {
      "cell_type": "markdown",
      "source": [
        "### element wise functions"
      ],
      "metadata": {
        "id": "YYZm-NRHaQrl"
      }
    },
    {
      "cell_type": "code",
      "source": [
        "t.abs()"
      ],
      "metadata": {
        "colab": {
          "base_uri": "https://localhost:8080/"
        },
        "id": "iC5ElysJaHzv",
        "outputId": "cd4b9c63-4805-495c-e0c7-335e2e3ade89"
      },
      "execution_count": null,
      "outputs": [
        {
          "output_type": "execute_result",
          "data": {
            "text/plain": [
              "tensor([[0., 5., 7.],\n",
              "        [6., 0., 7.],\n",
              "        [0., 8., 0.]])"
            ]
          },
          "metadata": {},
          "execution_count": 176
        }
      ]
    },
    {
      "cell_type": "code",
      "source": [
        "t.sqrt()"
      ],
      "metadata": {
        "colab": {
          "base_uri": "https://localhost:8080/"
        },
        "id": "04CpRXLSaUZF",
        "outputId": "b4c51b9a-e23c-4d7e-fb17-eb8cdd9e8fd1"
      },
      "execution_count": null,
      "outputs": [
        {
          "output_type": "execute_result",
          "data": {
            "text/plain": [
              "tensor([[0.0000, 2.2361, 2.6458],\n",
              "        [2.4495, 0.0000, 2.6458],\n",
              "        [0.0000, 2.8284, 0.0000]])"
            ]
          },
          "metadata": {},
          "execution_count": 177
        }
      ]
    },
    {
      "cell_type": "code",
      "source": [
        "t.neg()"
      ],
      "metadata": {
        "colab": {
          "base_uri": "https://localhost:8080/"
        },
        "id": "8BSj5u3saVZu",
        "outputId": "e3767966-65dd-44c5-f181-946afbe63b8b"
      },
      "execution_count": null,
      "outputs": [
        {
          "output_type": "execute_result",
          "data": {
            "text/plain": [
              "tensor([[-0., -5., -7.],\n",
              "        [-6., -0., -7.],\n",
              "        [-0., -8., -0.]])"
            ]
          },
          "metadata": {},
          "execution_count": 178
        }
      ]
    },
    {
      "cell_type": "code",
      "source": [
        "t.neg().abs()"
      ],
      "metadata": {
        "colab": {
          "base_uri": "https://localhost:8080/"
        },
        "id": "AMCNQsX-aWR9",
        "outputId": "eb9e8b79-d881-4253-df89-f734f06f7ef6"
      },
      "execution_count": null,
      "outputs": [
        {
          "output_type": "execute_result",
          "data": {
            "text/plain": [
              "tensor([[0., 5., 7.],\n",
              "        [6., 0., 7.],\n",
              "        [0., 8., 0.]])"
            ]
          },
          "metadata": {},
          "execution_count": 179
        }
      ]
    },
    {
      "cell_type": "code",
      "source": [],
      "metadata": {
        "id": "mB9sl0CpaXyK"
      },
      "execution_count": null,
      "outputs": []
    },
    {
      "cell_type": "markdown",
      "source": [
        "### Reduction\n",
        "\n",
        "reduce the number of element contained in the tensor"
      ],
      "metadata": {
        "id": "IvRVBoYtp5g5"
      }
    },
    {
      "cell_type": "code",
      "source": [
        "t = torch.tensor([\n",
        "    [0,1,0],\n",
        "    [2,0,2],\n",
        "    [0,3,0]\n",
        "],dtype = torch.float32)"
      ],
      "metadata": {
        "id": "oYzwrdl9p6Yp"
      },
      "execution_count": null,
      "outputs": []
    },
    {
      "cell_type": "code",
      "source": [
        "t.sum()"
      ],
      "metadata": {
        "colab": {
          "base_uri": "https://localhost:8080/"
        },
        "id": "T3fswhC4qwq4",
        "outputId": "475b04f0-9ef5-4773-ea80-5b499bdf3029"
      },
      "execution_count": null,
      "outputs": [
        {
          "output_type": "execute_result",
          "data": {
            "text/plain": [
              "tensor(8.)"
            ]
          },
          "metadata": {},
          "execution_count": 3
        }
      ]
    },
    {
      "cell_type": "code",
      "source": [
        "t.numel()"
      ],
      "metadata": {
        "colab": {
          "base_uri": "https://localhost:8080/"
        },
        "id": "a7Lr9uhbq2hk",
        "outputId": "775d9e13-95d9-40fd-bf5c-afaa6854f414"
      },
      "execution_count": null,
      "outputs": [
        {
          "output_type": "execute_result",
          "data": {
            "text/plain": [
              "9"
            ]
          },
          "metadata": {},
          "execution_count": 4
        }
      ]
    },
    {
      "cell_type": "code",
      "source": [
        "t.sum().numel()"
      ],
      "metadata": {
        "colab": {
          "base_uri": "https://localhost:8080/"
        },
        "id": "6PhyS5U3q37d",
        "outputId": "b9b46470-852f-474a-8f97-251e42381d19"
      },
      "execution_count": null,
      "outputs": [
        {
          "output_type": "execute_result",
          "data": {
            "text/plain": [
              "1"
            ]
          },
          "metadata": {},
          "execution_count": 5
        }
      ]
    },
    {
      "cell_type": "code",
      "source": [
        "t.sum().numel()<t.numel()"
      ],
      "metadata": {
        "colab": {
          "base_uri": "https://localhost:8080/"
        },
        "id": "TCL2uon6q55A",
        "outputId": "6931e618-9b65-4ca4-faa2-4fd45b5dedac"
      },
      "execution_count": null,
      "outputs": [
        {
          "output_type": "execute_result",
          "data": {
            "text/plain": [
              "True"
            ]
          },
          "metadata": {},
          "execution_count": 6
        }
      ]
    },
    {
      "cell_type": "markdown",
      "source": [
        "The sum operatoin is a reduciton opereation"
      ],
      "metadata": {
        "id": "6ocKpA-lq__1"
      }
    },
    {
      "cell_type": "code",
      "source": [
        "t = torch.tensor([\n",
        "    [1,1,1,1],\n",
        "    [2,2,2,2],\n",
        "    [3,3,3,3]\n",
        "],dtype = torch.float32)"
      ],
      "metadata": {
        "id": "jaj0rOs7q_Qh"
      },
      "execution_count": null,
      "outputs": []
    },
    {
      "cell_type": "markdown",
      "source": [
        "sum along the first axis"
      ],
      "metadata": {
        "id": "upq4FjTGr8GM"
      }
    },
    {
      "cell_type": "code",
      "source": [
        "t.sum(dim=0)"
      ],
      "metadata": {
        "colab": {
          "base_uri": "https://localhost:8080/"
        },
        "id": "URIRZb22rUvr",
        "outputId": "1b6d592a-56ba-4d4d-e912-b349f716fa34"
      },
      "execution_count": null,
      "outputs": [
        {
          "output_type": "execute_result",
          "data": {
            "text/plain": [
              "tensor([6., 6., 6., 6.])"
            ]
          },
          "metadata": {},
          "execution_count": 8
        }
      ]
    },
    {
      "cell_type": "markdown",
      "source": [
        "sum along the second axis"
      ],
      "metadata": {
        "id": "XwVEu6GBsEO1"
      }
    },
    {
      "cell_type": "code",
      "source": [
        "t.sum(dim = 1)"
      ],
      "metadata": {
        "colab": {
          "base_uri": "https://localhost:8080/"
        },
        "id": "syfHQ0uOrZUX",
        "outputId": "398500e1-7c17-45a1-941b-4429e11e2493"
      },
      "execution_count": null,
      "outputs": [
        {
          "output_type": "execute_result",
          "data": {
            "text/plain": [
              "tensor([ 4.,  8., 12.])"
            ]
          },
          "metadata": {},
          "execution_count": 10
        }
      ]
    },
    {
      "cell_type": "markdown",
      "source": [
        "argmax"
      ],
      "metadata": {
        "id": "mCGCg4_IsZ8W"
      }
    },
    {
      "cell_type": "code",
      "source": [
        "t = torch.tensor([\n",
        "    [1,0,0,2],\n",
        "    [0,3,3,0],\n",
        "    [4,0,0,5]\n",
        "],dtype = torch.float32)"
      ],
      "metadata": {
        "id": "kLgXd-ZWrcpj"
      },
      "execution_count": null,
      "outputs": []
    },
    {
      "cell_type": "code",
      "source": [
        "t.max()"
      ],
      "metadata": {
        "colab": {
          "base_uri": "https://localhost:8080/"
        },
        "id": "-qnzjSu8sgsb",
        "outputId": "e3cd6857-75fe-41a5-e8e8-3cf873e9485e"
      },
      "execution_count": null,
      "outputs": [
        {
          "output_type": "execute_result",
          "data": {
            "text/plain": [
              "tensor(5.)"
            ]
          },
          "metadata": {},
          "execution_count": 13
        }
      ]
    },
    {
      "cell_type": "code",
      "source": [
        "t.argmax()"
      ],
      "metadata": {
        "colab": {
          "base_uri": "https://localhost:8080/"
        },
        "id": "POsZxRlAshk6",
        "outputId": "51cbb78e-3b38-41e5-ccdf-04e848899d22"
      },
      "execution_count": null,
      "outputs": [
        {
          "output_type": "execute_result",
          "data": {
            "text/plain": [
              "tensor(11)"
            ]
          },
          "metadata": {},
          "execution_count": 14
        }
      ]
    },
    {
      "cell_type": "markdown",
      "source": [
        "returns the index of maximum value in the flatten tensor"
      ],
      "metadata": {
        "id": "yg4rT1iSsmh0"
      }
    },
    {
      "cell_type": "code",
      "source": [
        "t.flatten()"
      ],
      "metadata": {
        "colab": {
          "base_uri": "https://localhost:8080/"
        },
        "id": "EPJcHTuCsihD",
        "outputId": "6b4df72c-0c8a-47a4-aa26-7f4867a8cc2e"
      },
      "execution_count": null,
      "outputs": [
        {
          "output_type": "execute_result",
          "data": {
            "text/plain": [
              "tensor([1., 0., 0., 2., 0., 3., 3., 0., 4., 0., 0., 5.])"
            ]
          },
          "metadata": {},
          "execution_count": 15
        }
      ]
    },
    {
      "cell_type": "code",
      "source": [
        "t.max(dim=0)"
      ],
      "metadata": {
        "colab": {
          "base_uri": "https://localhost:8080/"
        },
        "id": "t7y73KjTsr2g",
        "outputId": "6b34a4cc-9240-437e-9474-e05703f828bc"
      },
      "execution_count": null,
      "outputs": [
        {
          "output_type": "execute_result",
          "data": {
            "text/plain": [
              "torch.return_types.max(\n",
              "values=tensor([4., 3., 3., 5.]),\n",
              "indices=tensor([2, 1, 1, 2]))"
            ]
          },
          "metadata": {},
          "execution_count": 16
        }
      ]
    },
    {
      "cell_type": "code",
      "source": [
        "t.argmax(dim=0)"
      ],
      "metadata": {
        "colab": {
          "base_uri": "https://localhost:8080/"
        },
        "id": "WVwJXYP3te-D",
        "outputId": "fa345381-643b-4743-f300-2e49d478ec04"
      },
      "execution_count": null,
      "outputs": [
        {
          "output_type": "execute_result",
          "data": {
            "text/plain": [
              "tensor([2, 1, 1, 2])"
            ]
          },
          "metadata": {},
          "execution_count": 18
        }
      ]
    },
    {
      "cell_type": "code",
      "source": [
        "t.max(dim = 1)"
      ],
      "metadata": {
        "colab": {
          "base_uri": "https://localhost:8080/"
        },
        "id": "nNBrZaAqsxpn",
        "outputId": "cdc98cc2-bc46-4ab5-f303-a34930315652"
      },
      "execution_count": null,
      "outputs": [
        {
          "output_type": "execute_result",
          "data": {
            "text/plain": [
              "torch.return_types.max(\n",
              "values=tensor([2., 3., 5.]),\n",
              "indices=tensor([3, 1, 3]))"
            ]
          },
          "metadata": {},
          "execution_count": 17
        }
      ]
    },
    {
      "cell_type": "code",
      "source": [
        "t.argmax(dim=1)"
      ],
      "metadata": {
        "colab": {
          "base_uri": "https://localhost:8080/"
        },
        "id": "ukQbU5gStaNS",
        "outputId": "d4cdd98d-a64d-4cc3-808b-0072973bf037"
      },
      "execution_count": null,
      "outputs": [
        {
          "output_type": "execute_result",
          "data": {
            "text/plain": [
              "tensor([3, 1, 3])"
            ]
          },
          "metadata": {},
          "execution_count": 19
        }
      ]
    },
    {
      "cell_type": "code",
      "source": [
        "t = torch.tensor([\n",
        "    [1,2,3],\n",
        "    [4,5,6],\n",
        "    [7,8,9]\n",
        "],dtype = torch.float32)"
      ],
      "metadata": {
        "id": "ONzzQtUjtemF"
      },
      "execution_count": null,
      "outputs": []
    },
    {
      "cell_type": "code",
      "source": [
        "t.mean()"
      ],
      "metadata": {
        "colab": {
          "base_uri": "https://localhost:8080/"
        },
        "id": "bFILYeZjwzoT",
        "outputId": "f54c0975-de15-4192-a10c-65c3a1c9744b"
      },
      "execution_count": null,
      "outputs": [
        {
          "output_type": "execute_result",
          "data": {
            "text/plain": [
              "tensor(5.)"
            ]
          },
          "metadata": {},
          "execution_count": 21
        }
      ]
    },
    {
      "cell_type": "code",
      "source": [
        "t.mean().item()"
      ],
      "metadata": {
        "colab": {
          "base_uri": "https://localhost:8080/"
        },
        "id": "2kMCwyf-w0hR",
        "outputId": "56589e3d-e932-46d5-82bd-7069ed842bb5"
      },
      "execution_count": null,
      "outputs": [
        {
          "output_type": "execute_result",
          "data": {
            "text/plain": [
              "5.0"
            ]
          },
          "metadata": {},
          "execution_count": 22
        }
      ]
    },
    {
      "cell_type": "markdown",
      "source": [
        "item() only applies to scalar value tensor"
      ],
      "metadata": {
        "id": "BoQo_-4bw8M5"
      }
    },
    {
      "cell_type": "code",
      "source": [
        "t.mean(dim=0).tolist()"
      ],
      "metadata": {
        "colab": {
          "base_uri": "https://localhost:8080/"
        },
        "id": "BWWjVwcZw2os",
        "outputId": "db67e849-2617-4aec-8193-c9d3d0e82d67"
      },
      "execution_count": null,
      "outputs": [
        {
          "output_type": "execute_result",
          "data": {
            "text/plain": [
              "[4.0, 5.0, 6.0]"
            ]
          },
          "metadata": {},
          "execution_count": 25
        }
      ]
    },
    {
      "cell_type": "code",
      "source": [
        "t.mean(dim=0).numpy()"
      ],
      "metadata": {
        "colab": {
          "base_uri": "https://localhost:8080/"
        },
        "id": "sRWHNDMUw4nd",
        "outputId": "e4a1d0bc-5042-4906-d554-cce320fddef6"
      },
      "execution_count": null,
      "outputs": [
        {
          "output_type": "execute_result",
          "data": {
            "text/plain": [
              "array([4., 5., 6.], dtype=float32)"
            ]
          },
          "metadata": {},
          "execution_count": 26
        }
      ]
    },
    {
      "cell_type": "code",
      "source": [],
      "metadata": {
        "id": "yJEspE01xFgB"
      },
      "execution_count": null,
      "outputs": []
    }
  ]
}